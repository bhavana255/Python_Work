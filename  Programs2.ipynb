{
 "cells": [
  {
   "cell_type": "code",
   "execution_count": 2,
   "metadata": {},
   "outputs": [
    {
     "name": "stdout",
     "output_type": "stream",
     "text": [
      "3,4,5,6,7,89\n",
      "('3', '4', '5', '6', '7', '89')\n",
      "['3', '4', '5', '6', '7', '89']\n"
     ]
    }
   ],
   "source": [
    "n=input()\n",
    "l=n.split(',')\n",
    "t=tuple(l)\n",
    "print(t)\n",
    "print(l)"
   ]
  },
  {
   "cell_type": "code",
   "execution_count": 5,
   "metadata": {},
   "outputs": [
    {
     "name": "stdout",
     "output_type": "stream",
     "text": [
      "4\n"
     ]
    }
   ],
   "source": [
    "def square(num):\n",
    "    return num**2\n",
    "print(square(2))\n"
   ]
  },
  {
   "cell_type": "code",
   "execution_count": 7,
   "metadata": {},
   "outputs": [
    {
     "name": "stdout",
     "output_type": "stream",
     "text": [
      "11\n"
     ]
    }
   ],
   "source": [
    "def sumfunction(num1,num2):\n",
    "    return num1+num2\n",
    "print(sumfunction(4,7))\n"
   ]
  },
  {
   "cell_type": "code",
   "execution_count": 9,
   "metadata": {},
   "outputs": [
    {
     "name": "stdout",
     "output_type": "stream",
     "text": [
      "6\n"
     ]
    }
   ],
   "source": [
    "def printvalue(n):\n",
    "    print(int(n))\n",
    "printvalue(6)\n"
   ]
  },
  {
   "cell_type": "code",
   "execution_count": 10,
   "metadata": {},
   "outputs": [
    {
     "name": "stdout",
     "output_type": "stream",
     "text": [
      "4\n"
     ]
    }
   ],
   "source": [
    "def printvalue(s1):\n",
    "    print(int(s1))\n",
    "printvalue(4)"
   ]
  },
  {
   "cell_type": "code",
   "execution_count": 16,
   "metadata": {},
   "outputs": [
    {
     "name": "stdout",
     "output_type": "stream",
     "text": [
      "nine\n"
     ]
    }
   ],
   "source": [
    "def printvalue(l1,l2):\n",
    "    len1=len(l1)\n",
    "    len2=len(l2)\n",
    "    if(len1>len2):\n",
    "        print(l1)\n",
    "    elif(len2>len1):\n",
    "        print(l2)\n",
    "    else:\n",
    "        print(l1)\n",
    "        print(l2)\n",
    "printvalue('one','nine')\n",
    "        \n"
   ]
  },
  {
   "cell_type": "code",
   "execution_count": 19,
   "metadata": {},
   "outputs": [
    {
     "name": "stdout",
     "output_type": "stream",
     "text": [
      "six\n"
     ]
    }
   ],
   "source": [
    "def printvalue(s1,s2):\n",
    "    len1=len(s1)\n",
    "    len2=len(s2)\n",
    "    if(len1<len2):\n",
    "        print(s1)\n",
    "    elif(len2<len1):\n",
    "        print(s2)\n",
    "    else:\n",
    "        print(s1)\n",
    "        print(s2)\n",
    "printvalue('four','six')"
   ]
  },
  {
   "cell_type": "code",
   "execution_count": 20,
   "metadata": {},
   "outputs": [
    {
     "name": "stdout",
     "output_type": "stream",
     "text": [
      "{1: 1, 2: 4, 3: 27}\n"
     ]
    }
   ],
   "source": [
    "def printvalue():\n",
    "    d=dict()\n",
    "    d[1]=1**1\n",
    "    d[2]=2**2\n",
    "    d[3]=3**3\n",
    "    print(d)\n",
    "printvalue()"
   ]
  },
  {
   "cell_type": "code",
   "execution_count": 23,
   "metadata": {},
   "outputs": [
    {
     "name": "stdout",
     "output_type": "stream",
     "text": [
      "1,4,9,16,25,36,49,64,81,100,121,144,169,196,225,256,289,324,361,400,"
     ]
    }
   ],
   "source": [
    "def printvalue():\n",
    "    d=dict()\n",
    "    for i in range(1,21):\n",
    "        d=i**2\n",
    "        print(d,end=\",\")\n",
    "printvalue()\n",
    " \n"
   ]
  },
  {
   "cell_type": "code",
   "execution_count": 28,
   "metadata": {},
   "outputs": [
    {
     "name": "stdout",
     "output_type": "stream",
     "text": [
      "1\n",
      "2\n",
      "3\n",
      "4\n",
      "5\n",
      "6\n",
      "7\n",
      "8\n",
      "9\n",
      "10\n",
      "11\n",
      "12\n",
      "13\n",
      "14\n",
      "15\n",
      "16\n",
      "17\n",
      "18\n",
      "19\n",
      "20\n"
     ]
    }
   ],
   "source": [
    "\n",
    "def printvalue():\n",
    "    d=dict()\n",
    "    for i in range(1,21):\n",
    "        d[i]=i**2\n",
    "    for k in d.keys():\n",
    "        print(k)\n",
    "            \n",
    "printvalue()"
   ]
  },
  {
   "cell_type": "code",
   "execution_count": 29,
   "metadata": {},
   "outputs": [
    {
     "name": "stdout",
     "output_type": "stream",
     "text": [
      "[1, 4, 9, 16, 25, 36]\n"
     ]
    }
   ],
   "source": [
    "def printvalue():\n",
    "    li=list()\n",
    "    for i in range(1,20):\n",
    "        li.append(i**2)\n",
    "    print(li[:6])\n",
    "printvalue()\n",
    "    \n",
    "    \n"
   ]
  },
  {
   "cell_type": "code",
   "execution_count": 33,
   "metadata": {},
   "outputs": [
    {
     "name": "stdout",
     "output_type": "stream",
     "text": [
      "[225, 256, 289, 324, 361]\n"
     ]
    }
   ],
   "source": [
    "def printvalue():\n",
    "    li=list()\n",
    "    for i in range(1,20):\n",
    "        li.append(i**2)\n",
    "    print(li[-5:])\n",
    "printvalue()\n"
   ]
  },
  {
   "cell_type": "code",
   "execution_count": 34,
   "metadata": {},
   "outputs": [
    {
     "name": "stdout",
     "output_type": "stream",
     "text": [
      "[36, 49, 64, 81, 100, 121, 144, 169, 196, 225, 256, 289, 324, 361]\n"
     ]
    }
   ],
   "source": [
    "def printvalue():\n",
    "    li=list()\n",
    "    for i in range(1,20):\n",
    "        li.append(i**2)\n",
    "    print(li[5:])\n",
    "printvalue()"
   ]
  },
  {
   "cell_type": "code",
   "execution_count": 36,
   "metadata": {},
   "outputs": [
    {
     "name": "stdout",
     "output_type": "stream",
     "text": [
      "(1, 4, 9, 16, 25, 36, 49, 64, 81, 100, 121, 144, 169, 196, 225, 256, 289, 324, 361)\n"
     ]
    }
   ],
   "source": [
    "def printvalue():\n",
    "    li=list()\n",
    "    for i in range(1,20):\n",
    "        li.append(i**2)\n",
    "    print(tuple(li))\n",
    "printvalue()"
   ]
  },
  {
   "cell_type": "code",
   "execution_count": 38,
   "metadata": {},
   "outputs": [
    {
     "name": "stdout",
     "output_type": "stream",
     "text": [
      "(6, 7, 8, 9)\n",
      "(1, 2, 3, 4, 5)\n"
     ]
    }
   ],
   "source": [
    "t=(1,2,3,4,5,6,7,8,9)\n",
    "t1=t[5:]\n",
    "t2=t[:5]\n",
    "print(t1)\n",
    "print(t2)"
   ]
  },
  {
   "cell_type": "code",
   "execution_count": 40,
   "metadata": {},
   "outputs": [
    {
     "name": "stdout",
     "output_type": "stream",
     "text": [
      "(2, 4, 6, 8)\n"
     ]
    }
   ],
   "source": [
    "tp=(1,2,3,4,5,6,7,8,9)\n",
    "li=[]\n",
    "for i in tp:\n",
    "    if i%2==0:\n",
    "        li.append(i)\n",
    "tp2=tuple(li)\n",
    "print(tp2)\n",
    "    \n",
    "    "
   ]
  },
  {
   "cell_type": "code",
   "execution_count": 41,
   "metadata": {},
   "outputs": [
    {
     "name": "stdout",
     "output_type": "stream",
     "text": [
      "no\n"
     ]
    }
   ],
   "source": [
    "s=input\n",
    "if s=='yes'or s=='YES' or s=='Yes':\n",
    "    print('yes')\n",
    "else:\n",
    "    print('no')\n"
   ]
  },
  {
   "cell_type": "code",
   "execution_count": 42,
   "metadata": {},
   "outputs": [
    {
     "name": "stdout",
     "output_type": "stream",
     "text": [
      "[2, 4, 6, 8]\n"
     ]
    }
   ],
   "source": [
    "li=[2,3,4,5,6,7,8]\n",
    "even=list(filter(lambda x:x%2==0,li))\n",
    "print(even)"
   ]
  },
  {
   "cell_type": "code",
   "execution_count": 44,
   "metadata": {},
   "outputs": [
    {
     "name": "stdout",
     "output_type": "stream",
     "text": [
      "[1, 3, 5, 7, 9]\n"
     ]
    }
   ],
   "source": [
    "li=[1,2,3,4,5,6,7,8,9]\n",
    "odd=list(filter(lambda x:x%2!=0,li))\n",
    "print(odd)"
   ]
  },
  {
   "cell_type": "code",
   "execution_count": 45,
   "metadata": {},
   "outputs": [
    {
     "name": "stdout",
     "output_type": "stream",
     "text": [
      "[1, 4, 9, 16, 25, 36, 49, 64, 81]\n"
     ]
    }
   ],
   "source": [
    "li=[1,2,3,4,5,6,7,8,9]\n",
    "sqrt=list(map(lambda x:x **2,li))\n",
    "print(sqrt)"
   ]
  },
  {
   "cell_type": "code",
   "execution_count": 47,
   "metadata": {},
   "outputs": [
    {
     "name": "stdout",
     "output_type": "stream",
     "text": [
      "[4, 16, 36, 64]\n"
     ]
    }
   ],
   "source": [
    "li=[1,2,3,4,5,6,7,8,9]\n",
    "evenNumbers = list(map(lambda x: x**2, filter(lambda x: x%2==0, li)))\n",
    "print(evennumber)"
   ]
  },
  {
   "cell_type": "code",
   "execution_count": 49,
   "metadata": {},
   "outputs": [
    {
     "name": "stdout",
     "output_type": "stream",
     "text": [
      "[0, 2, 4, 6, 8, 10, 12, 14, 16, 18, 20, 22, 24, 26, 28, 30, 32, 34, 36, 38, 40, 42, 44, 46, 48, 50, 52, 54, 56, 58, 60, 62, 64, 66, 68, 70, 72, 74, 76, 78, 80, 82, 84, 86, 88, 90, 92, 94, 96, 98]\n"
     ]
    }
   ],
   "source": [
    "evennumber=list(filter(lambda x:x%2==0,range(0,100)))\n",
    "print(evennumber)"
   ]
  },
  {
   "cell_type": "code",
   "execution_count": 54,
   "metadata": {},
   "outputs": [
    {
     "name": "stdout",
     "output_type": "stream",
     "text": [
      "2000,2005,2010,2015,2020,2025,2035,2040,2045,2050,2055,2060,2070,2075,2080,2085,2090,2095,2105,2110,2115,2120,2125,2130,2140,2145,2150,2155,2160,2165,2175,2180,2185,2190,2195,2200,2210,2215,2220,2225,2230,2235,2245,2250,2255,2260,2265,2270,2280,2285,2290,2295,2300,2305,2315,2320,2325,2330,2335,2340,2350,2355,2360,2365,2370,2375,2385,2390,2395,2400,2405,2410,2420,2425,2430,2435,2440,2445,2455,2460,2465,2470,2475,2480,2490,2495,2500,2505,2510,2515,2525,2530,2535,2540,2545,2550,2560,2565,2570,2575,2580,2585,2595,2600,2605,2610,2615,2620,2630,2635,2640,2645,2650,2655,2665,2670,2675,2680,2685,2690,2700,2705,2710,2715,2720,2725,2735,2740,2745,2750,2755,2760,2770,2775,2780,2785,2790,2795,2805,2810,2815,2820,2825,2830,2840,2845,2850,2855,2860,2865,2875,2880,2885,2890,2895,2900,2910,2915,2920,2925,2930,2935,2945,2950,2955,2960,2965,2970,2980,2985,2990,2995,"
     ]
    }
   ],
   "source": [
    "li=[]\n",
    "for i in range(2000,3000):\n",
    "    if(i%5==0 and i%7!=0):\n",
    "        print(i,end=\",\")\n",
    "        \n"
   ]
  },
  {
   "cell_type": "code",
   "execution_count": 57,
   "metadata": {},
   "outputs": [
    {
     "name": "stdout",
     "output_type": "stream",
     "text": [
      "6\n",
      "720\n"
     ]
    }
   ],
   "source": [
    "def fact(x):\n",
    "    if x==0:\n",
    "        return 1\n",
    "    return x* fact(x-1)\n",
    "x=int(input())\n",
    "print(fact(x))\n",
    "        \n"
   ]
  },
  {
   "cell_type": "code",
   "execution_count": 60,
   "metadata": {},
   "outputs": [
    {
     "name": "stdout",
     "output_type": "stream",
     "text": [
      "enter the number5\n",
      "{1: 1, 2: 4, 3: 9, 4: 16, 5: 25}\n"
     ]
    }
   ],
   "source": [
    "n=int(input('enter the number'))\n",
    "d=dict()\n",
    "for i in range(1,n+1):\n",
    "    d[i]=i*i\n",
    "print(d)\n"
   ]
  },
  {
   "cell_type": "code",
   "execution_count": 63,
   "metadata": {},
   "outputs": [
    {
     "name": "stdout",
     "output_type": "stream",
     "text": [
      "4\n",
      "('4',)\n",
      "(1, 2, 3, 4, 5, 6, 7, 8, 9)\n"
     ]
    }
   ],
   "source": [
    "n=input()\n",
    "l=n.split(',')\n",
    "l=tuple(l)\n",
    "print(l)\n",
    "print(t)\n"
   ]
  },
  {
   "cell_type": "code",
   "execution_count": 64,
   "metadata": {},
   "outputs": [
    {
     "name": "stdout",
     "output_type": "stream",
     "text": [
      "4\n",
      "9\n"
     ]
    }
   ],
   "source": [
    "def square(num):\n",
    "    return num**2\n",
    "print(square(2))\n",
    "print(square(3))\n",
    "\n"
   ]
  },
  {
   "cell_type": "code",
   "execution_count": 66,
   "metadata": {},
   "outputs": [
    {
     "data": {
      "text/plain": [
       "9"
      ]
     },
     "execution_count": 66,
     "metadata": {},
     "output_type": "execute_result"
    }
   ],
   "source": [
    "def sumfunction(n1,n2):\n",
    "    return(n1+n2)\n",
    "sumfunction(4,5)\n"
   ]
  },
  {
   "cell_type": "code",
   "execution_count": 69,
   "metadata": {},
   "outputs": [
    {
     "name": "stdout",
     "output_type": "stream",
     "text": [
      "4\n"
     ]
    }
   ],
   "source": [
    "def printvalue(n):\n",
    "    print(str(n))\n",
    "printvalue(4)\n"
   ]
  },
  {
   "cell_type": "code",
   "execution_count": 70,
   "metadata": {},
   "outputs": [
    {
     "name": "stdout",
     "output_type": "stream",
     "text": [
      "10\n"
     ]
    }
   ],
   "source": [
    "def printvalue(s1,s2):\n",
    "    print(int(s1)+int(s2))\n",
    "printvalue('4','6')\n"
   ]
  },
  {
   "cell_type": "code",
   "execution_count": 71,
   "metadata": {},
   "outputs": [
    {
     "name": "stdout",
     "output_type": "stream",
     "text": [
      "48\n"
     ]
    }
   ],
   "source": [
    "def printvalue(s1,s2):\n",
    "    print(s1+s2)\n",
    "printvalue('4','8')\n"
   ]
  },
  {
   "cell_type": "code",
   "execution_count": 72,
   "metadata": {},
   "outputs": [
    {
     "name": "stdout",
     "output_type": "stream",
     "text": [
      "one\n"
     ]
    }
   ],
   "source": [
    "def printvalue(s1,s2):\n",
    "    len1=len(s1)\n",
    "    len2=len(s2)\n",
    "    if(len1<len2):\n",
    "        print(s1)\n",
    "    elif(len2<len1):\n",
    "        print(s2)\n",
    "    else:\n",
    "        print(s1)\n",
    "        print(s2)\n",
    "printvalue(\"one\",\"nine\")"
   ]
  },
  {
   "cell_type": "code",
   "execution_count": 73,
   "metadata": {},
   "outputs": [
    {
     "name": "stdout",
     "output_type": "stream",
     "text": [
      "odd number\n"
     ]
    }
   ],
   "source": [
    "def printvalue(n):\n",
    "    if n%2==0:\n",
    "        print(\"even number\")\n",
    "    else:\n",
    "        print(\"odd number\")\n",
    "printvalue(11)"
   ]
  },
  {
   "cell_type": "code",
   "execution_count": 74,
   "metadata": {},
   "outputs": [
    {
     "name": "stdout",
     "output_type": "stream",
     "text": [
      "{1: 1, 2: 4, 3: 9, 4: 16, 5: 25}\n"
     ]
    }
   ],
   "source": [
    "def printvalue():\n",
    "    d=dict()\n",
    "d[1]=1**2\n",
    "d[2]=2**2\n",
    "d[3]=3**2\n",
    "print(d)\n",
    "printvalue()\n"
   ]
  },
  {
   "cell_type": "code",
   "execution_count": 75,
   "metadata": {},
   "outputs": [
    {
     "name": "stdout",
     "output_type": "stream",
     "text": [
      "{1: 1, 2: 4, 3: 9, 4: 16, 5: 25, 6: 36, 7: 49, 8: 64, 9: 81, 10: 100, 11: 121, 12: 144, 13: 169, 14: 196, 15: 225, 16: 256, 17: 289, 18: 324, 19: 361, 20: 400}\n"
     ]
    }
   ],
   "source": [
    "\n",
    "def printvalue():\n",
    "    d=dict()\n",
    "    for i in range(1,21):\n",
    "        d[i]=i**2\n",
    "    print(d)\n",
    "        \n",
    "printvalue()"
   ]
  },
  {
   "cell_type": "code",
   "execution_count": 76,
   "metadata": {},
   "outputs": [
    {
     "name": "stdout",
     "output_type": "stream",
     "text": [
      "1,4,9,16,25,36,49,64,81,100,121,144,169,196,225,256,289,324,361,"
     ]
    }
   ],
   "source": [
    "def printvalue():\n",
    "    d=dict()\n",
    "    for i in range(1,20):\n",
    "        d[i]=i**2\n",
    "    for (k,v)in d.items():\n",
    "        print(v,end=',')\n",
    "printvalue()"
   ]
  },
  {
   "cell_type": "code",
   "execution_count": 77,
   "metadata": {},
   "outputs": [],
   "source": [
    "\n",
    "def printvalue():\n",
    "    d=dict()\n",
    "    for i in range(1,20):\n",
    "        d[i]=i**2\n",
    "        for k in d.keys():\n",
    "             print(k)"
   ]
  },
  {
   "cell_type": "code",
   "execution_count": null,
   "metadata": {},
   "outputs": [],
   "source": []
  }
 ],
 "metadata": {
  "kernelspec": {
   "display_name": "Python 3",
   "language": "python",
   "name": "python3"
  },
  "language_info": {
   "codemirror_mode": {
    "name": "ipython",
    "version": 3
   },
   "file_extension": ".py",
   "mimetype": "text/x-python",
   "name": "python",
   "nbconvert_exporter": "python",
   "pygments_lexer": "ipython3",
   "version": "3.7.4"
  }
 },
 "nbformat": 4,
 "nbformat_minor": 2
}
