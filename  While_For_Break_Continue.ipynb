{
 "cells": [
  {
   "cell_type": "code",
   "execution_count": 1,
   "metadata": {},
   "outputs": [],
   "source": [
    "numbers=[1,2,3,4,5,6,7,8,9]"
   ]
  },
  {
   "cell_type": "code",
   "execution_count": 2,
   "metadata": {},
   "outputs": [
    {
     "name": "stdout",
     "output_type": "stream",
     "text": [
      "1\n",
      "4\n",
      "9\n",
      "16\n",
      "25\n",
      "36\n",
      "49\n",
      "64\n",
      "81\n"
     ]
    }
   ],
   "source": [
    "sq=0\n",
    "for value in numbers:\n",
    "    sq=value*value\n",
    "    print(sq)"
   ]
  },
  {
   "cell_type": "code",
   "execution_count": 4,
   "metadata": {},
   "outputs": [
    {
     "name": "stdout",
     "output_type": "stream",
     "text": [
      "25\n"
     ]
    }
   ],
   "source": [
    "sum=0\n",
    "for value in range(3,8):\n",
    "    sum=sum+value\n",
    "print(sum)\n"
   ]
  },
  {
   "cell_type": "code",
   "execution_count": 5,
   "metadata": {},
   "outputs": [
    {
     "name": "stdout",
     "output_type": "stream",
     "text": [
      "3\n",
      "4\n",
      "5\n",
      "6\n",
      "7\n",
      "loop is complete exicuted\n"
     ]
    }
   ],
   "source": [
    "for value in range(3,8):\n",
    "    print(value)\n",
    "else:\n",
    "    print('loop is complete exicuted')"
   ]
  },
  {
   "cell_type": "code",
   "execution_count": 7,
   "metadata": {},
   "outputs": [
    {
     "name": "stdout",
     "output_type": "stream",
     "text": [
      "1\n",
      "5\n",
      "9\n"
     ]
    }
   ],
   "source": [
    "num=1\n",
    "while(num<10):\n",
    "    print(num)\n",
    "    num=num+4"
   ]
  },
  {
   "cell_type": "code",
   "execution_count": 10,
   "metadata": {},
   "outputs": [
    {
     "name": "stdout",
     "output_type": "stream",
     "text": [
      "5 , 10\n",
      "6 , 11\n",
      "7 , 12\n",
      "8 , 13\n",
      "9 , 14\n",
      "10 , 15\n",
      "11 , 16\n",
      "12 , 17\n",
      "13 , 18\n",
      "14 , 19\n"
     ]
    }
   ],
   "source": [
    "i=5\n",
    "j=10\n",
    "while(i<10):\n",
    "    while(j<20):\n",
    "        print(i,',',j)\n",
    "        i=i+1\n",
    "        j=j+1"
   ]
  },
  {
   "cell_type": "code",
   "execution_count": 15,
   "metadata": {},
   "outputs": [
    {
     "name": "stdout",
     "output_type": "stream",
     "text": [
      "22\n",
      "33\n",
      "55\n",
      "77.99\n",
      "95\n",
      "47\n",
      "88\n",
      "number 88 is found\n",
      "the loop is terminated\n",
      "77\n",
      "66\n"
     ]
    }
   ],
   "source": [
    "for num in [22,33,55,77.99,95,47,88,77,66]:\n",
    "    print(num)\n",
    "    while(num==88):\n",
    "        print('number 88 is found')\n",
    "        print('the loop is terminated')\n",
    "        break\n",
    "   \n"
   ]
  },
  {
   "cell_type": "code",
   "execution_count": 17,
   "metadata": {},
   "outputs": [
    {
     "name": "stdout",
     "output_type": "stream",
     "text": [
      "333\n",
      "55\n",
      "77\n",
      "99\n"
     ]
    }
   ],
   "source": [
    "for num in [22,333,44,55,66,77,88,99]:\n",
    "    if num%2==0:\n",
    "        continue\n",
    "    print(num)\n",
    "        \n",
    "   \n"
   ]
  },
  {
   "cell_type": "code",
   "execution_count": 18,
   "metadata": {},
   "outputs": [
    {
     "name": "stdout",
     "output_type": "stream",
     "text": [
      "2\n",
      "3\n",
      "4\n"
     ]
    }
   ],
   "source": [
    "i=2\n",
    "while(i<5):\n",
    "    print(i)\n",
    "    i+=1"
   ]
  },
  {
   "cell_type": "code",
   "execution_count": 21,
   "metadata": {},
   "outputs": [
    {
     "name": "stdout",
     "output_type": "stream",
     "text": [
      "i like bhavana\n",
      "i like divya\n",
      "i like dishu\n"
     ]
    }
   ],
   "source": [
    "name=['bhavana','divya','dishu']\n",
    "for i in range(len(name)):\n",
    "    print('i like',name[i])\n",
    "    \n"
   ]
  },
  {
   "cell_type": "code",
   "execution_count": 25,
   "metadata": {},
   "outputs": [
    {
     "name": "stdout",
     "output_type": "stream",
     "text": [
      "enter the n50\n",
      "the sum is 55\n"
     ]
    }
   ],
   "source": [
    "n=int(input('enter the n'))\n",
    "sum=0\n",
    "i=1\n",
    "n=10\n",
    "while(i<=n):\n",
    "    sum=sum+i\n",
    "    i=i+1\n",
    "print(\"the sum is\",sum)\n",
    "    "
   ]
  },
  {
   "cell_type": "code",
   "execution_count": 28,
   "metadata": {},
   "outputs": [
    {
     "name": "stdout",
     "output_type": "stream",
     "text": [
      "inside the loop\n",
      "inside the loop\n",
      "inside the loop\n",
      "outside\n"
     ]
    }
   ],
   "source": [
    "counter=0\n",
    "while(counter<=2):\n",
    "    print(\"inside the loop\")\n",
    "    counter=counter+1\n",
    "else:\n",
    "    print('outside')"
   ]
  },
  {
   "cell_type": "code",
   "execution_count": 31,
   "metadata": {},
   "outputs": [
    {
     "name": "stdout",
     "output_type": "stream",
     "text": [
      "s\n",
      "t\n",
      "r\n",
      "the end\n"
     ]
    }
   ],
   "source": [
    "for val in 'string':\n",
    "    if val=='i':\n",
    "        break\n",
    "    print(val)\n",
    "print('the end')\n"
   ]
  },
  {
   "cell_type": "code",
   "execution_count": 32,
   "metadata": {},
   "outputs": [
    {
     "name": "stdout",
     "output_type": "stream",
     "text": [
      "s\n",
      "t\n",
      "r\n",
      "n\n",
      "g\n",
      "the end\n"
     ]
    }
   ],
   "source": [
    "for val in 'string':\n",
    "    if val=='i':\n",
    "        continue\n",
    "    print(val)\n",
    "print('the end')"
   ]
  },
  {
   "cell_type": "code",
   "execution_count": 33,
   "metadata": {},
   "outputs": [
    {
     "name": "stdout",
     "output_type": "stream",
     "text": [
      "(1, 2)\n"
     ]
    }
   ],
   "source": [
    "a=(1,2)\n",
    "print(a)"
   ]
  },
  {
   "cell_type": "code",
   "execution_count": null,
   "metadata": {},
   "outputs": [],
   "source": []
  }
 ],
 "metadata": {
  "kernelspec": {
   "display_name": "Python 3",
   "language": "python",
   "name": "python3"
  },
  "language_info": {
   "codemirror_mode": {
    "name": "ipython",
    "version": 3
   },
   "file_extension": ".py",
   "mimetype": "text/x-python",
   "name": "python",
   "nbconvert_exporter": "python",
   "pygments_lexer": "ipython3",
   "version": "3.7.4"
  }
 },
 "nbformat": 4,
 "nbformat_minor": 2
}
